{
  "nbformat": 4,
  "nbformat_minor": 0,
  "metadata": {
    "colab": {
      "name": "Untitled36 (3).ipynb",
      "provenance": []
    },
    "kernelspec": {
      "name": "python3",
      "display_name": "Python 3"
    },
    "language_info": {
      "name": "python"
    },
    "accelerator": "GPU"
  },
  "cells": [
    {
      "cell_type": "code",
      "execution_count": 1,
      "metadata": {
        "colab": {
          "base_uri": "https://localhost:8080/"
        },
        "id": "_1x5KXKDLS77",
        "outputId": "0d309046-8d2e-49e5-b783-9156ac73d681"
      },
      "outputs": [
        {
          "output_type": "stream",
          "name": "stdout",
          "text": [
            "Mounted at /content/drive\n"
          ]
        }
      ],
      "source": [
        "from google.colab import drive\n",
        "\n",
        "drive.mount('/content/drive')"
      ]
    },
    {
      "cell_type": "code",
      "source": [
        "import numpy as np\n",
        "import pandas as pd\n",
        "import tensorflow as tf\n",
        "from skimage import io, color, exposure, transform\n",
        "from sklearn.model_selection import train_test_split\n",
        "import os\n",
        "import glob\n",
        "import h5py\n",
        "\n",
        "from keras.preprocessing.image import ImageDataGenerator\n",
        "from keras.models import Sequential, model_from_json\n",
        "from keras.utils import np_utils\n",
        "from keras.callbacks import LearningRateScheduler, ModelCheckpoint\n",
        "\n",
        "from keras.models import Sequential\n",
        "from keras.layers.core import Dense, Dropout, Activation, Flatten\n",
        "from keras.layers.convolutional import Conv2D\n",
        "from keras.layers.pooling import MaxPooling2D\n",
        "from tensorflow.keras.optimizers import SGD\n",
        "from keras import backend as K\n",
        "K.set_image_data_format('channels_first')\n",
        "\n",
        "from matplotlib import pyplot as plt\n",
        "%matplotlib inline\n",
        "\n",
        "NUM_CLASSES = 43\n",
        "IMG_SIZE = 48"
      ],
      "metadata": {
        "id": "uLttCQtt4Bed"
      },
      "execution_count": 2,
      "outputs": []
    },
    {
      "cell_type": "code",
      "source": [
        "# 이미지 사전작업 - training 안의 이미지들을 가져올 때 동일한 크기로 만들기 위해 사용\n",
        "def preprocess_img(img):\n",
        "    # Histogram normalization in y\n",
        "    hsv = color.rgb2hsv(img)\n",
        "    hsv[:,:,2] = exposure.equalize_hist(hsv[:,:,2])\n",
        "    img = color.hsv2rgb(hsv)\n",
        "\n",
        "    # central scrop\n",
        "    min_side = min(img.shape[:-1])\n",
        "    centre = img.shape[0]//2, img.shape[1]//2\n",
        "    img = img[centre[0]-min_side//2:centre[0]+min_side//2,\n",
        "              centre[1]-min_side//2:centre[1]+min_side//2,\n",
        "              :]\n",
        "\n",
        "    # rescale to standard size\n",
        "    img = transform.resize(img, (IMG_SIZE, IMG_SIZE))\n",
        "\n",
        "    # roll color axis to axis 0\n",
        "    img = np.rollaxis(img,-1)\n",
        "\n",
        "    return img\n",
        "\n",
        "def get_class(img_path):\n",
        "    return int(img_path.split('/')[-2])"
      ],
      "metadata": {
        "id": "3uyOVxzs42nR"
      },
      "execution_count": 3,
      "outputs": []
    },
    {
      "cell_type": "code",
      "source": [
        "# training 이미지를 X_train, y_train으로 가져오기\n",
        "root_dir = '/content/drive/MyDrive/GTSRB_Final_Training_Images/GTSRB/Final_Training/Images'\n",
        "imgs = []\n",
        "labels = []\n",
        "\n",
        "all_img_paths = glob.glob(os.path.join(root_dir, '*/*.ppm'))\n",
        "np.random.shuffle(all_img_paths)\n",
        "for img_path in all_img_paths:\n",
        "    img = preprocess_img(io.imread(img_path))\n",
        "    label = get_class(img_path)\n",
        "    if len(imgs)%1000 == 0: print(\"Processed {}/{}\".format(len(imgs), len(all_img_paths)))\n",
        "    imgs.append(img)\n",
        "    labels.append(label)\n",
        "\n",
        "X_train = np.array(imgs, dtype='float32')\n",
        "# Make one hot targets\n",
        "y_train = np.eye(NUM_CLASSES, dtype='uint8')[labels]"
      ],
      "metadata": {
        "colab": {
          "base_uri": "https://localhost:8080/"
        },
        "id": "vluiLLQRZMyU",
        "outputId": "1e6fd27b-756a-4987-b591-15280284ed9b"
      },
      "execution_count": null,
      "outputs": [
        {
          "output_type": "stream",
          "name": "stdout",
          "text": [
            "Processed 0/36533\n",
            "Processed 1000/36533\n",
            "Processed 2000/36533\n",
            "Processed 3000/36533\n",
            "Processed 4000/36533\n",
            "Processed 5000/36533\n",
            "Processed 6000/36533\n",
            "Processed 7000/36533\n",
            "Processed 8000/36533\n",
            "Processed 9000/36533\n",
            "Processed 10000/36533\n",
            "Processed 11000/36533\n",
            "Processed 12000/36533\n",
            "Processed 13000/36533\n",
            "Processed 14000/36533\n",
            "Processed 15000/36533\n",
            "Processed 16000/36533\n",
            "Processed 17000/36533\n",
            "Processed 18000/36533\n",
            "Processed 19000/36533\n",
            "Processed 20000/36533\n",
            "Processed 21000/36533\n",
            "Processed 22000/36533\n",
            "Processed 23000/36533\n",
            "Processed 24000/36533\n",
            "Processed 25000/36533\n",
            "Processed 26000/36533\n",
            "Processed 27000/36533\n",
            "Processed 28000/36533\n",
            "Processed 29000/36533\n",
            "Processed 30000/36533\n",
            "Processed 31000/36533\n",
            "Processed 32000/36533\n",
            "Processed 33000/36533\n",
            "Processed 34000/36533\n",
            "Processed 35000/36533\n",
            "Processed 36000/36533\n"
          ]
        }
      ]
    },
    {
      "cell_type": "code",
      "source": [
        "# test이미지를 X_test로, csv 파일에 저장된 사진 레이블을 y_test로 가져오기\n",
        "test = pd.read_csv('/content/drive/MyDrive/GTSRB_Final_Test_Images/GTSRB/Final_Test/Images/GT-final_test.csv',sep=';')\n",
        "\n",
        "X_test = []\n",
        "y_test = []\n",
        "i = 0\n",
        "for file_name, class_id  in zip(list(test['Filename']), list(test['ClassId'])):\n",
        "    img_path = os.path.join('/content/drive/MyDrive/GTSRB_Final_Test_Images/GTSRB/Final_Test/Images',file_name)\n",
        "    X_test.append(preprocess_img(io.imread(img_path)))\n",
        "    # y_test.append(class_id)\n",
        "\n",
        "annotations = pd.read_csv('/content/drive/MyDrive/GTSRB_Final_Test_Images/GTSRB/Final_Test/Images/GT-final_test.csv', sep=';')\n",
        "    \n",
        "X_test = np.array(X_test)\n",
        "y_test = tf.one_hot(annotations['ClassId'], depth=43).numpy()"
      ],
      "metadata": {
        "id": "NuTCfC_rc9E-"
      },
      "execution_count": null,
      "outputs": []
    },
    {
      "cell_type": "code",
      "source": [
        "# training 데이터셋 들어갔는지 확인\n",
        "X_train[0], y_train[0]"
      ],
      "metadata": {
        "colab": {
          "base_uri": "https://localhost:8080/"
        },
        "id": "PUkrPTYZRv3y",
        "outputId": "68d88ab8-bc58-4df8-a678-6253501f8068"
      },
      "execution_count": null,
      "outputs": [
        {
          "output_type": "execute_result",
          "data": {
            "text/plain": [
              "(array([[[0.3347155 , 0.57364815, 0.79143393, ..., 0.18103556,\n",
              "          0.10783312, 0.18548629],\n",
              "         [0.30296364, 0.5783482 , 0.8487262 , ..., 0.25579447,\n",
              "          0.10136115, 0.1695603 ],\n",
              "         [0.36191592, 0.6159048 , 0.83250785, ..., 0.36590332,\n",
              "          0.11435353, 0.15733634],\n",
              "         ...,\n",
              "         [0.04870614, 0.04927165, 0.05061875, ..., 0.8586617 ,\n",
              "          0.865381  , 0.8625892 ],\n",
              "         [0.0651088 , 0.05126996, 0.03695832, ..., 0.80771625,\n",
              "          0.80919075, 0.80121356],\n",
              "         [0.07825091, 0.05447715, 0.02590678, ..., 0.72074735,\n",
              "          0.6895237 , 0.6555928 ]],\n",
              " \n",
              "        [[0.24257672, 0.4383844 , 0.6293877 , ..., 0.15497276,\n",
              "          0.09898286, 0.17825048],\n",
              "         [0.23248354, 0.48458007, 0.7790316 , ..., 0.22219878,\n",
              "          0.09524036, 0.16606522],\n",
              "         [0.29985288, 0.56698227, 0.83046216, ..., 0.32618052,\n",
              "          0.11088521, 0.15800367],\n",
              "         ...,\n",
              "         [0.03945228, 0.0409885 , 0.04258246, ..., 0.84123147,\n",
              "          0.84492266, 0.84820473],\n",
              "         [0.05202016, 0.04251203, 0.03216882, ..., 0.7905194 ,\n",
              "          0.7879589 , 0.78693205],\n",
              "         [0.07025447, 0.04972577, 0.02411969, ..., 0.7009622 ,\n",
              "          0.6650013 , 0.63620764]],\n",
              " \n",
              "        [[0.21867111, 0.3801881 , 0.60381997, ..., 0.15737362,\n",
              "          0.09751868, 0.17311235],\n",
              "         [0.19803831, 0.4125365 , 0.7442401 , ..., 0.22398637,\n",
              "          0.09333883, 0.16116764],\n",
              "         [0.25788525, 0.49198988, 0.78027517, ..., 0.35862902,\n",
              "          0.11453289, 0.1531245 ],\n",
              "         ...,\n",
              "         [0.02679001, 0.02858726, 0.02792708, ..., 0.80803776,\n",
              "          0.82565325, 0.83817977],\n",
              "         [0.03751656, 0.03322798, 0.02328528, ..., 0.7496935 ,\n",
              "          0.77201056, 0.7894732 ],\n",
              "         [0.05482806, 0.04243394, 0.02001727, ..., 0.6541059 ,\n",
              "          0.6522423 , 0.65060496]]], dtype=float32),\n",
              " array([0, 0, 0, 0, 0, 0, 0, 0, 0, 0, 0, 0, 0, 0, 1, 0, 0, 0, 0, 0, 0, 0,\n",
              "        0, 0, 0, 0, 0, 0, 0, 0, 0, 0, 0, 0, 0, 0, 0, 0, 0, 0, 0, 0, 0],\n",
              "       dtype=uint8))"
            ]
          },
          "metadata": {},
          "execution_count": 6
        }
      ]
    },
    {
      "cell_type": "code",
      "source": [
        "# test 데이터셋 들어갔는지 확인\n",
        "X_test[0], y_test[0]"
      ],
      "metadata": {
        "colab": {
          "base_uri": "https://localhost:8080/"
        },
        "id": "e8iNY2nER05r",
        "outputId": "30b43e0c-83c5-47ba-fe7e-c202fc44eaf2"
      },
      "execution_count": null,
      "outputs": [
        {
          "output_type": "execute_result",
          "data": {
            "text/plain": [
              "(array([[[0.64245157, 0.62246238, 0.5942435 , ..., 0.5561614 ,\n",
              "          0.5504691 , 0.4270654 ],\n",
              "         [0.62829979, 0.58692531, 0.60299459, ..., 0.6556023 ,\n",
              "          0.61478008, 0.5106034 ],\n",
              "         [0.62816685, 0.60895938, 0.6190982 , ..., 0.66009382,\n",
              "          0.6694136 , 0.66257252],\n",
              "         ...,\n",
              "         [0.39381494, 0.44292965, 0.37748886, ..., 0.41626002,\n",
              "          0.42226112, 0.49592413],\n",
              "         [0.40454545, 0.38484229, 0.43864177, ..., 0.42205123,\n",
              "          0.384268  , 0.38289828],\n",
              "         [0.40013821, 0.3629787 , 0.36085419, ..., 0.38728213,\n",
              "          0.38799144, 0.4268595 ]],\n",
              " \n",
              "        [[0.77898248, 0.75128282, 0.71201178, ..., 0.64856211,\n",
              "          0.65010193, 0.49918237],\n",
              "         [0.77282929, 0.71999103, 0.73209558, ..., 0.77693711,\n",
              "          0.72250929, 0.59679266],\n",
              "         [0.75930837, 0.73903274, 0.75127674, ..., 0.7836593 ,\n",
              "          0.78593298, 0.77865394],\n",
              "         ...,\n",
              "         [0.46139918, 0.51454097, 0.436443  , ..., 0.49075419,\n",
              "          0.49231251, 0.5834992 ],\n",
              "         [0.47426504, 0.45060083, 0.51378826, ..., 0.50046025,\n",
              "          0.44768759, 0.45450859],\n",
              "         [0.4736479 , 0.43025772, 0.43125532, ..., 0.46297039,\n",
              "          0.45515778, 0.51504528]],\n",
              " \n",
              "        [[0.97002666, 0.94913941, 0.89588904, ..., 0.79576241,\n",
              "          0.78487145, 0.60016488],\n",
              "         [0.95695809, 0.89945836, 0.90833545, ..., 0.95847314,\n",
              "          0.88776276, 0.72721263],\n",
              "         [0.93839414, 0.91559329, 0.9256863 , ..., 0.97975718,\n",
              "          0.97399538, 0.96003104],\n",
              "         ...,\n",
              "         [0.56303153, 0.62857363, 0.53665343, ..., 0.60329818,\n",
              "          0.60601197, 0.71870086],\n",
              "         [0.58171017, 0.54925979, 0.64760175, ..., 0.61801817,\n",
              "          0.54526067, 0.54573943],\n",
              "         [0.58547345, 0.52674472, 0.53700849, ..., 0.56217621,\n",
              "          0.55159237, 0.62233153]]]),\n",
              " array([0., 0., 0., 0., 0., 0., 0., 0., 0., 0., 0., 0., 0., 0., 0., 0., 1.,\n",
              "        0., 0., 0., 0., 0., 0., 0., 0., 0., 0., 0., 0., 0., 0., 0., 0., 0.,\n",
              "        0., 0., 0., 0., 0., 0., 0., 0., 0.], dtype=float32))"
            ]
          },
          "metadata": {},
          "execution_count": 7
        }
      ]
    },
    {
      "cell_type": "code",
      "source": [
        "# 위의 데이터셋을 파일로 저장\n",
        "\n",
        "np.save('/content/drive/MyDrive/x_train', X_train, allow_pickle=True, fix_imports=True)\n",
        "np.save('/content/drive/MyDrive/y_train', y_train, allow_pickle=True, fix_imports=True)"
      ],
      "metadata": {
        "id": "zikh2RixUMHJ"
      },
      "execution_count": null,
      "outputs": []
    },
    {
      "cell_type": "code",
      "source": [
        "np.save('/content/drive/MyDrive/x_test', X_test, allow_pickle=True, fix_imports=True)\n",
        "np.save('/content/drive/MyDrive/y_test', y_test, allow_pickle=True, fix_imports=True)"
      ],
      "metadata": {
        "id": "JABKcNczU0AF"
      },
      "execution_count": null,
      "outputs": []
    },
    {
      "cell_type": "code",
      "source": [
        "# 추후 데이터를 불러올 때 위 전체 과정 대신 아래의 np.load로 불러오기(구글 드라이브는 있어야 함)"
      ],
      "metadata": {
        "id": "PdaFK3kPWYoL"
      },
      "execution_count": 4,
      "outputs": []
    },
    {
      "cell_type": "code",
      "source": [
        "X_train = np.load('/content/drive/MyDrive/x_train.npy')\n",
        "y_train = np.load('/content/drive/MyDrive/y_train.npy')"
      ],
      "metadata": {
        "id": "e_gEPsHobePW"
      },
      "execution_count": 5,
      "outputs": []
    },
    {
      "cell_type": "code",
      "source": [
        "X_test = np.load('/content/drive/MyDrive/x_test.npy')\n",
        "y_test = np.load('/content/drive/MyDrive/y_test.npy')"
      ],
      "metadata": {
        "id": "4KCWW08UbttQ"
      },
      "execution_count": 6,
      "outputs": []
    },
    {
      "cell_type": "code",
      "source": [
        "# 모델 1 : 기초적인 CNN\n",
        "def cnn_model():\n",
        "    model = Sequential()\n",
        "\n",
        "    model.add(Conv2D(32, (3, 3), padding='same', input_shape=(3, IMG_SIZE, IMG_SIZE), activation='relu'))\n",
        "    model.add(Conv2D(32, (3, 3), activation='relu'))\n",
        "    model.add(MaxPooling2D(pool_size=(2, 2)))\n",
        "\n",
        "    model.add(Conv2D(64, (3, 3), padding='same', activation='relu'))\n",
        "    model.add(Conv2D(64, (3, 3), activation='relu'))\n",
        "    model.add(MaxPooling2D(pool_size=(2, 2)))\n",
        "\n",
        "    model.add(Conv2D(128, (3, 3), padding='same', activation='relu'))\n",
        "    model.add(Conv2D(128, (3, 3), activation='relu'))\n",
        "    model.add(MaxPooling2D(pool_size=(2, 2)))\n",
        "\n",
        "    model.add(Flatten())\n",
        "    model.add(Dense(256, activation='relu'))\n",
        "    model.add(Dense(NUM_CLASSES, activation='softmax'))\n",
        "    return model"
      ],
      "metadata": {
        "id": "7IRlmGWnZa7m"
      },
      "execution_count": 7,
      "outputs": []
    },
    {
      "cell_type": "code",
      "source": [
        "model = cnn_model()\n",
        "\n",
        "lr = 0.01\n",
        "sgd = SGD(lr=lr, decay=1e-6, momentum=0.9, nesterov=True)\n",
        "model.compile(loss='categorical_crossentropy',\n",
        "          optimizer='adam',\n",
        "          metrics=['accuracy'])\n",
        "\n",
        "def lr_schedule(epoch):\n",
        "    return lr*(0.1**int(epoch/10))"
      ],
      "metadata": {
        "colab": {
          "base_uri": "https://localhost:8080/"
        },
        "id": "oaAAMWeQ4ym5",
        "outputId": "5df16fc0-53d9-4b34-b92a-10f29e076a7f"
      },
      "execution_count": 8,
      "outputs": [
        {
          "output_type": "stream",
          "name": "stderr",
          "text": [
            "/usr/local/lib/python3.7/dist-packages/keras/optimizer_v2/gradient_descent.py:102: UserWarning: The `lr` argument is deprecated, use `learning_rate` instead.\n",
            "  super(SGD, self).__init__(name, **kwargs)\n"
          ]
        }
      ]
    },
    {
      "cell_type": "code",
      "source": [
        "batch_size = 32\n",
        "nb_epoch = 30\n",
        "\n",
        "history1 = model.fit(X_train, y_train,\n",
        "          batch_size=batch_size,\n",
        "          epochs=nb_epoch,\n",
        "          validation_split=0.2,\n",
        "          shuffle=True,\n",
        "          callbacks=[LearningRateScheduler(lr_schedule),\n",
        "                    ModelCheckpoint('model.h5',save_best_only=True)])"
      ],
      "metadata": {
        "colab": {
          "base_uri": "https://localhost:8080/"
        },
        "id": "Cs8Ps9b542f6",
        "outputId": "a294a3b6-47dd-42ae-8178-378906f30316"
      },
      "execution_count": 9,
      "outputs": [
        {
          "output_type": "stream",
          "name": "stdout",
          "text": [
            "Epoch 1/30\n",
            "914/914 [==============================] - 32s 24ms/step - loss: 3.5905 - accuracy: 0.0587 - val_loss: 3.4988 - val_accuracy: 0.0647 - lr: 0.0100\n",
            "Epoch 2/30\n",
            "914/914 [==============================] - 21s 23ms/step - loss: 3.5147 - accuracy: 0.0583 - val_loss: 3.4985 - val_accuracy: 0.0642 - lr: 0.0100\n",
            "Epoch 3/30\n",
            "914/914 [==============================] - 20s 22ms/step - loss: 3.5137 - accuracy: 0.0571 - val_loss: 3.4977 - val_accuracy: 0.0642 - lr: 0.0100\n",
            "Epoch 4/30\n",
            "914/914 [==============================] - 20s 21ms/step - loss: 3.5125 - accuracy: 0.0577 - val_loss: 3.4974 - val_accuracy: 0.0647 - lr: 0.0100\n",
            "Epoch 5/30\n",
            "914/914 [==============================] - 20s 22ms/step - loss: 3.5112 - accuracy: 0.0598 - val_loss: 3.4982 - val_accuracy: 0.0642 - lr: 0.0100\n",
            "Epoch 6/30\n",
            "914/914 [==============================] - 20s 21ms/step - loss: 3.5110 - accuracy: 0.0599 - val_loss: 3.4965 - val_accuracy: 0.0527 - lr: 0.0100\n",
            "Epoch 7/30\n",
            "914/914 [==============================] - 20s 22ms/step - loss: 3.5103 - accuracy: 0.0586 - val_loss: 3.4965 - val_accuracy: 0.0593 - lr: 0.0100\n",
            "Epoch 8/30\n",
            "914/914 [==============================] - 20s 22ms/step - loss: 3.5109 - accuracy: 0.0587 - val_loss: 3.4955 - val_accuracy: 0.0642 - lr: 0.0100\n",
            "Epoch 9/30\n",
            "914/914 [==============================] - 20s 22ms/step - loss: 3.5106 - accuracy: 0.0581 - val_loss: 3.4960 - val_accuracy: 0.0593 - lr: 0.0100\n",
            "Epoch 10/30\n",
            "914/914 [==============================] - 20s 22ms/step - loss: 3.5111 - accuracy: 0.0569 - val_loss: 3.4954 - val_accuracy: 0.0593 - lr: 0.0100\n",
            "Epoch 11/30\n",
            "914/914 [==============================] - 21s 22ms/step - loss: 3.5086 - accuracy: 0.0576 - val_loss: 3.4948 - val_accuracy: 0.0647 - lr: 0.0010\n",
            "Epoch 12/30\n",
            "914/914 [==============================] - 21s 23ms/step - loss: 3.5080 - accuracy: 0.0600 - val_loss: 3.4947 - val_accuracy: 0.0647 - lr: 0.0010\n",
            "Epoch 13/30\n",
            "914/914 [==============================] - 21s 23ms/step - loss: 3.5079 - accuracy: 0.0581 - val_loss: 3.4948 - val_accuracy: 0.0642 - lr: 0.0010\n",
            "Epoch 14/30\n",
            "914/914 [==============================] - 20s 21ms/step - loss: 3.5078 - accuracy: 0.0609 - val_loss: 3.4948 - val_accuracy: 0.0642 - lr: 0.0010\n",
            "Epoch 15/30\n",
            "914/914 [==============================] - 20s 22ms/step - loss: 3.5078 - accuracy: 0.0609 - val_loss: 3.4947 - val_accuracy: 0.0642 - lr: 0.0010\n",
            "Epoch 16/30\n",
            "914/914 [==============================] - 21s 22ms/step - loss: 3.5078 - accuracy: 0.0596 - val_loss: 3.4946 - val_accuracy: 0.0642 - lr: 0.0010\n",
            "Epoch 17/30\n",
            "914/914 [==============================] - 20s 22ms/step - loss: 3.5078 - accuracy: 0.0608 - val_loss: 3.4947 - val_accuracy: 0.0642 - lr: 0.0010\n",
            "Epoch 18/30\n",
            "914/914 [==============================] - 19s 21ms/step - loss: 3.5078 - accuracy: 0.0609 - val_loss: 3.4947 - val_accuracy: 0.0642 - lr: 0.0010\n",
            "Epoch 19/30\n",
            "914/914 [==============================] - 19s 21ms/step - loss: 3.5079 - accuracy: 0.0600 - val_loss: 3.4946 - val_accuracy: 0.0642 - lr: 0.0010\n",
            "Epoch 20/30\n",
            "914/914 [==============================] - 19s 21ms/step - loss: 3.5078 - accuracy: 0.0609 - val_loss: 3.4948 - val_accuracy: 0.0642 - lr: 0.0010\n",
            "Epoch 21/30\n",
            "914/914 [==============================] - 20s 22ms/step - loss: 3.5074 - accuracy: 0.0609 - val_loss: 3.4948 - val_accuracy: 0.0642 - lr: 1.0000e-04\n",
            "Epoch 22/30\n",
            "914/914 [==============================] - 20s 22ms/step - loss: 3.5074 - accuracy: 0.0609 - val_loss: 3.4948 - val_accuracy: 0.0642 - lr: 1.0000e-04\n",
            "Epoch 23/30\n",
            "914/914 [==============================] - 19s 21ms/step - loss: 3.5074 - accuracy: 0.0609 - val_loss: 3.4948 - val_accuracy: 0.0642 - lr: 1.0000e-04\n",
            "Epoch 24/30\n",
            "914/914 [==============================] - 20s 22ms/step - loss: 3.5074 - accuracy: 0.0609 - val_loss: 3.4947 - val_accuracy: 0.0642 - lr: 1.0000e-04\n",
            "Epoch 25/30\n",
            "914/914 [==============================] - 20s 21ms/step - loss: 3.5074 - accuracy: 0.0609 - val_loss: 3.4947 - val_accuracy: 0.0642 - lr: 1.0000e-04\n",
            "Epoch 26/30\n",
            "914/914 [==============================] - 20s 22ms/step - loss: 3.5074 - accuracy: 0.0609 - val_loss: 3.4947 - val_accuracy: 0.0642 - lr: 1.0000e-04\n",
            "Epoch 27/30\n",
            "914/914 [==============================] - 20s 21ms/step - loss: 3.5074 - accuracy: 0.0609 - val_loss: 3.4947 - val_accuracy: 0.0642 - lr: 1.0000e-04\n",
            "Epoch 28/30\n",
            "914/914 [==============================] - 20s 22ms/step - loss: 3.5074 - accuracy: 0.0609 - val_loss: 3.4947 - val_accuracy: 0.0642 - lr: 1.0000e-04\n",
            "Epoch 29/30\n",
            "914/914 [==============================] - 22s 24ms/step - loss: 3.5074 - accuracy: 0.0609 - val_loss: 3.4947 - val_accuracy: 0.0642 - lr: 1.0000e-04\n",
            "Epoch 30/30\n",
            "914/914 [==============================] - 20s 22ms/step - loss: 3.5074 - accuracy: 0.0609 - val_loss: 3.4947 - val_accuracy: 0.0642 - lr: 1.0000e-04\n"
          ]
        }
      ]
    },
    {
      "cell_type": "code",
      "source": [
        "epochs = [i for i in range(1, len(history1.history['accuracy']) + 1)]\n",
        "plt.plot(epochs, history1.history['loss'], label='train loss')\n",
        "plt.plot(epochs, history1.history['val_loss'], 'r', label='val loss')\n",
        "plt.title('loss')\n",
        "plt.legend()\n",
        "plt.show()"
      ],
      "metadata": {
        "colab": {
          "base_uri": "https://localhost:8080/",
          "height": 281
        },
        "id": "0VQU-8U2Yztn",
        "outputId": "511b0658-a075-4ee0-e49c-6438b68985a3"
      },
      "execution_count": 10,
      "outputs": [
        {
          "output_type": "display_data",
          "data": {
            "image/png": "[encoded data removed]",
            "text/plain": [
              "<Figure size 432x288 with 1 Axes>"
            ]
          },
          "metadata": {
            "needs_background": "light"
          }
        }
      ]
    },
    {
      "cell_type": "code",
      "source": [
        "plt.plot(epochs, history1.history['accuracy'], label='train acc')\n",
        "plt.plot(epochs, history1.history['val_accuracy'], 'r', label='val acc')\n",
        "plt.title('accuracy')\n",
        "plt.legend()\n",
        "plt.show()"
      ],
      "metadata": {
        "colab": {
          "base_uri": "https://localhost:8080/",
          "height": 281
        },
        "id": "K13-7CuIWltT",
        "outputId": "bfcfa564-7281-49a3-9c24-81a2b39ab30e"
      },
      "execution_count": 11,
      "outputs": [
        {
          "output_type": "display_data",
          "data": {
            "image/png": "[encoded data removed]",
            "text/plain": [
              "<Figure size 432x288 with 1 Axes>"
            ]
          },
          "metadata": {
            "needs_background": "light"
          }
        }
      ]
    },
    {
      "cell_type": "code",
      "source": [
        "# 정확도를 높여보기 위해 dropout 적용하기\n",
        "def cnn_model2():\n",
        "    model = Sequential()\n",
        "\n",
        "    model.add(Conv2D(32, (3, 3), padding='same', input_shape=(3, IMG_SIZE, IMG_SIZE), activation='relu'))\n",
        "    model.add(Conv2D(32, (3, 3), activation='relu'))\n",
        "    model.add(MaxPooling2D(pool_size=(2, 2)))\n",
        "    model.add(Dropout(0.2))\n",
        "\n",
        "    model.add(Conv2D(64, (3, 3), padding='same', activation='relu'))\n",
        "    model.add(Conv2D(64, (3, 3), activation='relu'))\n",
        "    model.add(MaxPooling2D(pool_size=(2, 2)))\n",
        "    model.add(Dropout(0.2))\n",
        "\n",
        "    model.add(Conv2D(128, (3, 3), padding='same', activation='relu'))\n",
        "    model.add(Conv2D(128, (3, 3), activation='relu'))\n",
        "    model.add(MaxPooling2D(pool_size=(2, 2)))\n",
        "    model.add(Dropout(0.2))\n",
        "\n",
        "    model.add(Flatten())\n",
        "    model.add(Dense(256, activation='relu'))\n",
        "    model.add(Dropout(0.2))\n",
        "    model.add(Dense(NUM_CLASSES, activation='softmax'))\n",
        "    return model"
      ],
      "metadata": {
        "id": "HsNO_8wITGLP"
      },
      "execution_count": 12,
      "outputs": []
    },
    {
      "cell_type": "code",
      "source": [
        "model2 = cnn_model2()\n",
        "\n",
        "lr = 0.01\n",
        "sgd = SGD(lr=lr, decay=1e-6, momentum=0.9, nesterov=True)\n",
        "model2.compile(loss='categorical_crossentropy',\n",
        "          optimizer=sgd,\n",
        "          metrics=['accuracy'])\n",
        "\n",
        "def lr_schedule(epoch):\n",
        "    return lr*(0.1**int(epoch/10))"
      ],
      "metadata": {
        "colab": {
          "base_uri": "https://localhost:8080/"
        },
        "id": "M5fCgibpTP6E",
        "outputId": "f8fdbe3b-524d-4cc4-cdc9-e600be955bf4"
      },
      "execution_count": 13,
      "outputs": [
        {
          "output_type": "stream",
          "name": "stderr",
          "text": [
            "/usr/local/lib/python3.7/dist-packages/keras/optimizer_v2/gradient_descent.py:102: UserWarning: The `lr` argument is deprecated, use `learning_rate` instead.\n",
            "  super(SGD, self).__init__(name, **kwargs)\n"
          ]
        }
      ]
    },
    {
      "cell_type": "code",
      "source": [
        "history2 = model2.fit(X_train, y_train,\n",
        "          batch_size=batch_size,\n",
        "          epochs=nb_epoch,\n",
        "          validation_split=0.2,\n",
        "          shuffle=True,\n",
        "          callbacks=[LearningRateScheduler(lr_schedule),\n",
        "                    ModelCheckpoint('model.h5',save_best_only=True)]\n",
        "            )"
      ],
      "metadata": {
        "colab": {
          "base_uri": "https://localhost:8080/"
        },
        "id": "xcoanhofTVU6",
        "outputId": "8cf287ae-2817-49f4-9834-be52ae6b1ade"
      },
      "execution_count": 14,
      "outputs": [
        {
          "output_type": "stream",
          "name": "stdout",
          "text": [
            "Epoch 1/30\n",
            "914/914 [==============================] - 23s 24ms/step - loss: 1.4899 - accuracy: 0.5771 - val_loss: 0.2374 - val_accuracy: 0.9294 - lr: 0.0100\n",
            "Epoch 2/30\n",
            "914/914 [==============================] - 21s 23ms/step - loss: 0.2123 - accuracy: 0.9325 - val_loss: 0.1132 - val_accuracy: 0.9663 - lr: 0.0100\n",
            "Epoch 3/30\n",
            "914/914 [==============================] - 23s 25ms/step - loss: 0.1282 - accuracy: 0.9604 - val_loss: 0.0697 - val_accuracy: 0.9804 - lr: 0.0100\n",
            "Epoch 4/30\n",
            "914/914 [==============================] - 21s 23ms/step - loss: 0.0849 - accuracy: 0.9737 - val_loss: 0.0549 - val_accuracy: 0.9836 - lr: 0.0100\n",
            "Epoch 5/30\n",
            "914/914 [==============================] - 21s 22ms/step - loss: 0.0696 - accuracy: 0.9783 - val_loss: 0.0440 - val_accuracy: 0.9867 - lr: 0.0100\n",
            "Epoch 6/30\n",
            "914/914 [==============================] - 20s 22ms/step - loss: 0.0513 - accuracy: 0.9839 - val_loss: 0.0397 - val_accuracy: 0.9878 - lr: 0.0100\n",
            "Epoch 7/30\n",
            "914/914 [==============================] - 20s 22ms/step - loss: 0.0456 - accuracy: 0.9859 - val_loss: 0.0407 - val_accuracy: 0.9891 - lr: 0.0100\n",
            "Epoch 8/30\n",
            "914/914 [==============================] - 21s 23ms/step - loss: 0.0400 - accuracy: 0.9873 - val_loss: 0.0425 - val_accuracy: 0.9880 - lr: 0.0100\n",
            "Epoch 9/30\n",
            "914/914 [==============================] - 20s 22ms/step - loss: 0.0382 - accuracy: 0.9882 - val_loss: 0.0357 - val_accuracy: 0.9921 - lr: 0.0100\n",
            "Epoch 10/30\n",
            "914/914 [==============================] - 20s 22ms/step - loss: 0.0395 - accuracy: 0.9875 - val_loss: 0.0576 - val_accuracy: 0.9832 - lr: 0.0100\n",
            "Epoch 11/30\n",
            "914/914 [==============================] - 20s 22ms/step - loss: 0.0187 - accuracy: 0.9942 - val_loss: 0.0275 - val_accuracy: 0.9936 - lr: 0.0010\n",
            "Epoch 12/30\n",
            "914/914 [==============================] - 20s 22ms/step - loss: 0.0104 - accuracy: 0.9964 - val_loss: 0.0264 - val_accuracy: 0.9934 - lr: 0.0010\n",
            "Epoch 13/30\n",
            "914/914 [==============================] - 20s 22ms/step - loss: 0.0076 - accuracy: 0.9974 - val_loss: 0.0286 - val_accuracy: 0.9940 - lr: 0.0010\n",
            "Epoch 14/30\n",
            "914/914 [==============================] - 21s 23ms/step - loss: 0.0055 - accuracy: 0.9980 - val_loss: 0.0295 - val_accuracy: 0.9937 - lr: 0.0010\n",
            "Epoch 15/30\n",
            "914/914 [==============================] - 22s 24ms/step - loss: 0.0062 - accuracy: 0.9979 - val_loss: 0.0284 - val_accuracy: 0.9930 - lr: 0.0010\n",
            "Epoch 16/30\n",
            "914/914 [==============================] - 21s 23ms/step - loss: 0.0054 - accuracy: 0.9984 - val_loss: 0.0306 - val_accuracy: 0.9937 - lr: 0.0010\n",
            "Epoch 17/30\n",
            "914/914 [==============================] - 21s 23ms/step - loss: 0.0050 - accuracy: 0.9984 - val_loss: 0.0277 - val_accuracy: 0.9936 - lr: 0.0010\n",
            "Epoch 18/30\n",
            "914/914 [==============================] - 21s 23ms/step - loss: 0.0056 - accuracy: 0.9982 - val_loss: 0.0301 - val_accuracy: 0.9937 - lr: 0.0010\n",
            "Epoch 19/30\n",
            "914/914 [==============================] - 21s 22ms/step - loss: 0.0040 - accuracy: 0.9985 - val_loss: 0.0297 - val_accuracy: 0.9937 - lr: 0.0010\n",
            "Epoch 20/30\n",
            "914/914 [==============================] - 20s 22ms/step - loss: 0.0041 - accuracy: 0.9987 - val_loss: 0.0299 - val_accuracy: 0.9943 - lr: 0.0010\n",
            "Epoch 21/30\n",
            "914/914 [==============================] - 21s 23ms/step - loss: 0.0040 - accuracy: 0.9986 - val_loss: 0.0302 - val_accuracy: 0.9943 - lr: 1.0000e-04\n",
            "Epoch 22/30\n",
            "914/914 [==============================] - 21s 23ms/step - loss: 0.0040 - accuracy: 0.9986 - val_loss: 0.0306 - val_accuracy: 0.9940 - lr: 1.0000e-04\n",
            "Epoch 23/30\n",
            "914/914 [==============================] - 21s 23ms/step - loss: 0.0044 - accuracy: 0.9988 - val_loss: 0.0295 - val_accuracy: 0.9941 - lr: 1.0000e-04\n",
            "Epoch 24/30\n",
            "914/914 [==============================] - 21s 23ms/step - loss: 0.0036 - accuracy: 0.9987 - val_loss: 0.0295 - val_accuracy: 0.9941 - lr: 1.0000e-04\n",
            "Epoch 25/30\n",
            "914/914 [==============================] - 20s 22ms/step - loss: 0.0040 - accuracy: 0.9987 - val_loss: 0.0291 - val_accuracy: 0.9941 - lr: 1.0000e-04\n",
            "Epoch 26/30\n",
            "914/914 [==============================] - 20s 22ms/step - loss: 0.0042 - accuracy: 0.9986 - val_loss: 0.0296 - val_accuracy: 0.9943 - lr: 1.0000e-04\n",
            "Epoch 27/30\n",
            "914/914 [==============================] - 21s 22ms/step - loss: 0.0040 - accuracy: 0.9987 - val_loss: 0.0289 - val_accuracy: 0.9941 - lr: 1.0000e-04\n",
            "Epoch 28/30\n",
            "914/914 [==============================] - 20s 22ms/step - loss: 0.0034 - accuracy: 0.9989 - val_loss: 0.0289 - val_accuracy: 0.9940 - lr: 1.0000e-04\n",
            "Epoch 29/30\n",
            "914/914 [==============================] - 21s 22ms/step - loss: 0.0036 - accuracy: 0.9988 - val_loss: 0.0287 - val_accuracy: 0.9941 - lr: 1.0000e-04\n",
            "Epoch 30/30\n",
            "914/914 [==============================] - 20s 22ms/step - loss: 0.0035 - accuracy: 0.9988 - val_loss: 0.0289 - val_accuracy: 0.9941 - lr: 1.0000e-04\n"
          ]
        }
      ]
    },
    {
      "cell_type": "code",
      "source": [
        "epochs = [i for i in range(1, len(history2.history['accuracy']) + 1)]\n",
        "plt.plot(epochs, history2.history['loss'], label='train loss')\n",
        "plt.plot(epochs, history2.history['val_loss'], 'r', label='val loss')\n",
        "plt.title('loss')\n",
        "plt.legend()\n",
        "plt.show()"
      ],
      "metadata": {
        "colab": {
          "base_uri": "https://localhost:8080/",
          "height": 281
        },
        "id": "dgY-AvAkY-rn",
        "outputId": "bf8715fe-c260-486c-812e-45bd2d957fb7"
      },
      "execution_count": 15,
      "outputs": [
        {
          "output_type": "display_data",
          "data": {
            "image/png": "[encoded data removed]",
            "text/plain": [
              "<Figure size 432x288 with 1 Axes>"
            ]
          },
          "metadata": {
            "needs_background": "light"
          }
        }
      ]
    },
    {
      "cell_type": "code",
      "source": [
        "plt.plot(epochs, history2.history['accuracy'], label='train acc')\n",
        "plt.plot(epochs, history2.history['val_accuracy'], 'r', label='val acc')\n",
        "plt.title('accuracy')\n",
        "plt.legend()\n",
        "plt.show()"
      ],
      "metadata": {
        "colab": {
          "base_uri": "https://localhost:8080/",
          "height": 281
        },
        "id": "b8V3YR5XZB6w",
        "outputId": "3c316a52-77b2-46eb-ed94-427d21ac9699"
      },
      "execution_count": 16,
      "outputs": [
        {
          "output_type": "display_data",
          "data": {
            "image/png": "[encoded data removed]",
            "text/plain": [
              "<Figure size 432x288 with 1 Axes>"
            ]
          },
          "metadata": {
            "needs_background": "light"
          }
        }
      ]
    },
    {
      "cell_type": "code",
      "source": [
        "model.evaluate(X_test, y_test)"
      ],
      "metadata": {
        "colab": {
          "base_uri": "https://localhost:8080/"
        },
        "id": "DjonqStbPYvK",
        "outputId": "08a9ac63-8194-40cf-e3da-4f380b225af9"
      },
      "execution_count": 17,
      "outputs": [
        {
          "output_type": "stream",
          "name": "stdout",
          "text": [
            "395/395 [==============================] - 5s 12ms/step - loss: 3.4824 - accuracy: 0.0594\n"
          ]
        },
        {
          "output_type": "execute_result",
          "data": {
            "text/plain": [
              "[3.4823639392852783, 0.059382423758506775]"
            ]
          },
          "metadata": {},
          "execution_count": 17
        }
      ]
    },
    {
      "cell_type": "code",
      "source": [
        "model2.evaluate(X_test, y_test)"
      ],
      "metadata": {
        "colab": {
          "base_uri": "https://localhost:8080/"
        },
        "id": "eAtvDzPmPiDb",
        "outputId": "98151c89-cea8-4a0c-ff93-6975fe3dd11a"
      },
      "execution_count": 18,
      "outputs": [
        {
          "output_type": "stream",
          "name": "stdout",
          "text": [
            "395/395 [==============================] - 5s 11ms/step - loss: 0.2061 - accuracy: 0.9662\n"
          ]
        },
        {
          "output_type": "execute_result",
          "data": {
            "text/plain": [
              "[0.2060539275407791, 0.9661915898323059]"
            ]
          },
          "metadata": {},
          "execution_count": 18
        }
      ]
    },
    {
      "cell_type": "code",
      "source": [
        "X_train_aug, X_val_aug, y_train_aug, y_val_aug = train_test_split(X_train, y_train, test_size=0.2, random_state=42)\n",
        "\n",
        "datagen = ImageDataGenerator(featurewise_center=False, \n",
        "                            featurewise_std_normalization=False, \n",
        "                            width_shift_range=0.1,\n",
        "                            height_shift_range=0.1,\n",
        "                            zoom_range=0.2,\n",
        "                            shear_range=0.1,\n",
        "                            rotation_range=10.,)\n",
        "\n",
        "datagen.fit(X_train_aug)"
      ],
      "metadata": {
        "id": "56YnpdhOj0iw"
      },
      "execution_count": 19,
      "outputs": []
    },
    {
      "cell_type": "code",
      "source": [
        "model3 = cnn_model()\n",
        "\n",
        "lr = 0.01\n",
        "sgd = SGD(lr=lr, decay=1e-6, momentum=0.9, nesterov=True)\n",
        "model3.compile(loss='categorical_crossentropy',\n",
        "          optimizer=sgd,\n",
        "          metrics=['accuracy'])"
      ],
      "metadata": {
        "colab": {
          "base_uri": "https://localhost:8080/"
        },
        "id": "QVOcIxt4kzNI",
        "outputId": "3ef95e78-3aaf-4d1f-e3aa-b976f16a57bf"
      },
      "execution_count": 20,
      "outputs": [
        {
          "output_type": "stream",
          "name": "stderr",
          "text": [
            "/usr/local/lib/python3.7/dist-packages/keras/optimizer_v2/gradient_descent.py:102: UserWarning: The `lr` argument is deprecated, use `learning_rate` instead.\n",
            "  super(SGD, self).__init__(name, **kwargs)\n"
          ]
        }
      ]
    },
    {
      "cell_type": "code",
      "source": [
        "history3 = model3.fit(datagen.flow(X_train_aug, y_train_aug, batch_size=batch_size),\n",
        "                            epochs=nb_epoch,\n",
        "                            validation_data=(X_val_aug, y_val_aug),\n",
        "                            callbacks=[LearningRateScheduler(lr_schedule),\n",
        "                                       ModelCheckpoint('model.h5',save_best_only=True)]\n",
        "                           )"
      ],
      "metadata": {
        "colab": {
          "base_uri": "https://localhost:8080/"
        },
        "id": "zIpd7pKkk6pt",
        "outputId": "0e06197b-0256-4dce-b15a-df1cdc100433"
      },
      "execution_count": 21,
      "outputs": [
        {
          "output_type": "stream",
          "name": "stdout",
          "text": [
            "Epoch 1/30\n",
            "914/914 [==============================] - 40s 43ms/step - loss: 2.0007 - accuracy: 0.4291 - val_loss: 0.2898 - val_accuracy: 0.9064 - lr: 0.0100\n",
            "Epoch 2/30\n",
            "914/914 [==============================] - 42s 46ms/step - loss: 0.3443 - accuracy: 0.8913 - val_loss: 0.0912 - val_accuracy: 0.9725 - lr: 0.0100\n",
            "Epoch 3/30\n",
            "914/914 [==============================] - 41s 45ms/step - loss: 0.1639 - accuracy: 0.9487 - val_loss: 0.0635 - val_accuracy: 0.9778 - lr: 0.0100\n",
            "Epoch 4/30\n",
            "914/914 [==============================] - 38s 42ms/step - loss: 0.1141 - accuracy: 0.9646 - val_loss: 0.0405 - val_accuracy: 0.9858 - lr: 0.0100\n",
            "Epoch 5/30\n",
            "914/914 [==============================] - 39s 42ms/step - loss: 0.0852 - accuracy: 0.9734 - val_loss: 0.0438 - val_accuracy: 0.9866 - lr: 0.0100\n",
            "Epoch 6/30\n",
            "914/914 [==============================] - 38s 41ms/step - loss: 0.0709 - accuracy: 0.9785 - val_loss: 0.0318 - val_accuracy: 0.9912 - lr: 0.0100\n",
            "Epoch 7/30\n",
            "914/914 [==============================] - 39s 43ms/step - loss: 0.0564 - accuracy: 0.9824 - val_loss: 0.0158 - val_accuracy: 0.9956 - lr: 0.0100\n",
            "Epoch 8/30\n",
            "914/914 [==============================] - 38s 42ms/step - loss: 0.0538 - accuracy: 0.9831 - val_loss: 0.0341 - val_accuracy: 0.9892 - lr: 0.0100\n",
            "Epoch 9/30\n",
            "914/914 [==============================] - 38s 42ms/step - loss: 0.0501 - accuracy: 0.9841 - val_loss: 0.0189 - val_accuracy: 0.9940 - lr: 0.0100\n",
            "Epoch 10/30\n",
            "914/914 [==============================] - 38s 41ms/step - loss: 0.0430 - accuracy: 0.9869 - val_loss: 0.0199 - val_accuracy: 0.9941 - lr: 0.0100\n",
            "Epoch 11/30\n",
            "914/914 [==============================] - 38s 42ms/step - loss: 0.0186 - accuracy: 0.9946 - val_loss: 0.0071 - val_accuracy: 0.9979 - lr: 0.0010\n",
            "Epoch 12/30\n",
            "914/914 [==============================] - 39s 42ms/step - loss: 0.0108 - accuracy: 0.9969 - val_loss: 0.0069 - val_accuracy: 0.9981 - lr: 0.0010\n",
            "Epoch 13/30\n",
            "914/914 [==============================] - 38s 42ms/step - loss: 0.0111 - accuracy: 0.9965 - val_loss: 0.0069 - val_accuracy: 0.9977 - lr: 0.0010\n",
            "Epoch 14/30\n",
            "914/914 [==============================] - 39s 43ms/step - loss: 0.0080 - accuracy: 0.9977 - val_loss: 0.0064 - val_accuracy: 0.9978 - lr: 0.0010\n",
            "Epoch 15/30\n",
            "914/914 [==============================] - 39s 42ms/step - loss: 0.0078 - accuracy: 0.9971 - val_loss: 0.0068 - val_accuracy: 0.9982 - lr: 0.0010\n",
            "Epoch 16/30\n",
            "914/914 [==============================] - 38s 42ms/step - loss: 0.0077 - accuracy: 0.9974 - val_loss: 0.0073 - val_accuracy: 0.9978 - lr: 0.0010\n",
            "Epoch 17/30\n",
            "914/914 [==============================] - 40s 44ms/step - loss: 0.0056 - accuracy: 0.9979 - val_loss: 0.0065 - val_accuracy: 0.9977 - lr: 0.0010\n",
            "Epoch 18/30\n",
            "914/914 [==============================] - 39s 43ms/step - loss: 0.0058 - accuracy: 0.9982 - val_loss: 0.0059 - val_accuracy: 0.9985 - lr: 0.0010\n",
            "Epoch 19/30\n",
            "914/914 [==============================] - 39s 43ms/step - loss: 0.0065 - accuracy: 0.9979 - val_loss: 0.0070 - val_accuracy: 0.9981 - lr: 0.0010\n",
            "Epoch 20/30\n",
            "914/914 [==============================] - 38s 42ms/step - loss: 0.0054 - accuracy: 0.9981 - val_loss: 0.0067 - val_accuracy: 0.9986 - lr: 0.0010\n",
            "Epoch 21/30\n",
            "914/914 [==============================] - 38s 42ms/step - loss: 0.0043 - accuracy: 0.9986 - val_loss: 0.0065 - val_accuracy: 0.9985 - lr: 1.0000e-04\n",
            "Epoch 22/30\n",
            "914/914 [==============================] - 41s 45ms/step - loss: 0.0053 - accuracy: 0.9983 - val_loss: 0.0066 - val_accuracy: 0.9984 - lr: 1.0000e-04\n",
            "Epoch 23/30\n",
            "914/914 [==============================] - 40s 44ms/step - loss: 0.0047 - accuracy: 0.9986 - val_loss: 0.0066 - val_accuracy: 0.9985 - lr: 1.0000e-04\n",
            "Epoch 24/30\n",
            "914/914 [==============================] - 39s 43ms/step - loss: 0.0049 - accuracy: 0.9985 - val_loss: 0.0063 - val_accuracy: 0.9984 - lr: 1.0000e-04\n",
            "Epoch 25/30\n",
            "914/914 [==============================] - 39s 43ms/step - loss: 0.0046 - accuracy: 0.9986 - val_loss: 0.0064 - val_accuracy: 0.9984 - lr: 1.0000e-04\n",
            "Epoch 26/30\n",
            "914/914 [==============================] - 39s 43ms/step - loss: 0.0042 - accuracy: 0.9987 - val_loss: 0.0065 - val_accuracy: 0.9984 - lr: 1.0000e-04\n",
            "Epoch 27/30\n",
            "914/914 [==============================] - 38s 42ms/step - loss: 0.0051 - accuracy: 0.9981 - val_loss: 0.0066 - val_accuracy: 0.9984 - lr: 1.0000e-04\n",
            "Epoch 28/30\n",
            "914/914 [==============================] - 41s 45ms/step - loss: 0.0046 - accuracy: 0.9985 - val_loss: 0.0066 - val_accuracy: 0.9984 - lr: 1.0000e-04\n",
            "Epoch 29/30\n",
            "914/914 [==============================] - 40s 44ms/step - loss: 0.0045 - accuracy: 0.9985 - val_loss: 0.0066 - val_accuracy: 0.9984 - lr: 1.0000e-04\n",
            "Epoch 30/30\n",
            "914/914 [==============================] - 40s 44ms/step - loss: 0.0046 - accuracy: 0.9989 - val_loss: 0.0064 - val_accuracy: 0.9985 - lr: 1.0000e-04\n"
          ]
        }
      ]
    },
    {
      "cell_type": "code",
      "source": [
        "epochs = [i for i in range(1, len(history3.history['accuracy']) + 1)]\n",
        "plt.plot(epochs, history3.history['loss'], label='train loss')\n",
        "plt.plot(epochs, history3.history['val_loss'], 'r', label='val loss')\n",
        "plt.title('loss')\n",
        "plt.legend()\n",
        "plt.show()"
      ],
      "metadata": {
        "colab": {
          "base_uri": "https://localhost:8080/",
          "height": 281
        },
        "id": "1PGfgPIoeN9R",
        "outputId": "6cdd9d6a-f129-4e2b-c790-c4a2393a75e2"
      },
      "execution_count": 22,
      "outputs": [
        {
          "output_type": "display_data",
          "data": {
            "image/png": "[encoded data removed]",
            "text/plain": [
              "<Figure size 432x288 with 1 Axes>"
            ]
          },
          "metadata": {
            "needs_background": "light"
          }
        }
      ]
    },
    {
      "cell_type": "code",
      "source": [
        "plt.plot(epochs, history3.history['accuracy'], label='train acc')\n",
        "plt.plot(epochs, history3.history['val_accuracy'], 'r', label='val acc')\n",
        "plt.title('accuracy')\n",
        "plt.legend()\n",
        "plt.show()"
      ],
      "metadata": {
        "colab": {
          "base_uri": "https://localhost:8080/",
          "height": 281
        },
        "id": "EedX0HMgeQZp",
        "outputId": "3dc74483-75d5-42de-cad5-bdd9aa3f1e3e"
      },
      "execution_count": 23,
      "outputs": [
        {
          "output_type": "display_data",
          "data": {
            "image/png": "[encoded data removed]",
            "text/plain": [
              "<Figure size 432x288 with 1 Axes>"
            ]
          },
          "metadata": {
            "needs_background": "light"
          }
        }
      ]
    },
    {
      "cell_type": "code",
      "source": [
        "model3.evaluate(X_test, y_test)"
      ],
      "metadata": {
        "colab": {
          "base_uri": "https://localhost:8080/"
        },
        "id": "2HXDRPBNlGMr",
        "outputId": "755cc845-f6d6-409f-89a2-d4117ddd146d"
      },
      "execution_count": 24,
      "outputs": [
        {
          "output_type": "stream",
          "name": "stdout",
          "text": [
            "395/395 [==============================] - 4s 9ms/step - loss: 0.0994 - accuracy: 0.9816\n"
          ]
        },
        {
          "output_type": "execute_result",
          "data": {
            "text/plain": [
              "[0.0994342640042305, 0.9815518856048584]"
            ]
          },
          "metadata": {},
          "execution_count": 24
        }
      ]
    },
    {
      "cell_type": "code",
      "source": [
        "model4 = cnn_model2()\n",
        "\n",
        "lr = 0.01\n",
        "sgd = SGD(lr=lr, decay=1e-6, momentum=0.9, nesterov=True)\n",
        "model4.compile(loss='categorical_crossentropy',\n",
        "          optimizer=sgd,\n",
        "          metrics=['accuracy'])"
      ],
      "metadata": {
        "colab": {
          "base_uri": "https://localhost:8080/"
        },
        "id": "qdh8eQm7oqX3",
        "outputId": "bcddda50-fec1-44c8-e42b-29ebe6473eca"
      },
      "execution_count": 25,
      "outputs": [
        {
          "output_type": "stream",
          "name": "stderr",
          "text": [
            "/usr/local/lib/python3.7/dist-packages/keras/optimizer_v2/gradient_descent.py:102: UserWarning: The `lr` argument is deprecated, use `learning_rate` instead.\n",
            "  super(SGD, self).__init__(name, **kwargs)\n"
          ]
        }
      ]
    },
    {
      "cell_type": "code",
      "source": [
        "history4 = model4.fit(datagen.flow(X_train_aug, y_train_aug, batch_size=batch_size),\n",
        "                            epochs=nb_epoch,\n",
        "                            validation_data=(X_val_aug, y_val_aug),\n",
        "                            callbacks=[LearningRateScheduler(lr_schedule),\n",
        "                                       ModelCheckpoint('model.h5',save_best_only=True)]\n",
        "                           )"
      ],
      "metadata": {
        "colab": {
          "base_uri": "https://localhost:8080/"
        },
        "id": "Pap9mJ1toxSG",
        "outputId": "c11e4769-4f3f-4823-e240-5cbf800f4aa3"
      },
      "execution_count": 26,
      "outputs": [
        {
          "output_type": "stream",
          "name": "stdout",
          "text": [
            "Epoch 1/30\n",
            "914/914 [==============================] - 41s 44ms/step - loss: 2.2278 - accuracy: 0.3573 - val_loss: 0.6053 - val_accuracy: 0.8204 - lr: 0.0100\n",
            "Epoch 2/30\n",
            "914/914 [==============================] - 40s 43ms/step - loss: 0.6938 - accuracy: 0.7800 - val_loss: 0.1470 - val_accuracy: 0.9540 - lr: 0.0100\n",
            "Epoch 3/30\n",
            "914/914 [==============================] - 39s 42ms/step - loss: 0.3369 - accuracy: 0.8935 - val_loss: 0.0669 - val_accuracy: 0.9778 - lr: 0.0100\n",
            "Epoch 4/30\n",
            "914/914 [==============================] - 38s 42ms/step - loss: 0.2228 - accuracy: 0.9303 - val_loss: 0.0533 - val_accuracy: 0.9830 - lr: 0.0100\n",
            "Epoch 5/30\n",
            "914/914 [==============================] - 37s 41ms/step - loss: 0.1681 - accuracy: 0.9470 - val_loss: 0.0355 - val_accuracy: 0.9900 - lr: 0.0100\n",
            "Epoch 6/30\n",
            "914/914 [==============================] - 39s 43ms/step - loss: 0.1408 - accuracy: 0.9560 - val_loss: 0.0278 - val_accuracy: 0.9908 - lr: 0.0100\n",
            "Epoch 7/30\n",
            "914/914 [==============================] - 38s 42ms/step - loss: 0.1119 - accuracy: 0.9663 - val_loss: 0.0269 - val_accuracy: 0.9906 - lr: 0.0100\n",
            "Epoch 8/30\n",
            "914/914 [==============================] - 38s 41ms/step - loss: 0.0987 - accuracy: 0.9695 - val_loss: 0.0203 - val_accuracy: 0.9943 - lr: 0.0100\n",
            "Epoch 9/30\n",
            "914/914 [==============================] - 39s 42ms/step - loss: 0.0921 - accuracy: 0.9714 - val_loss: 0.0206 - val_accuracy: 0.9937 - lr: 0.0100\n",
            "Epoch 10/30\n",
            "914/914 [==============================] - 38s 42ms/step - loss: 0.0826 - accuracy: 0.9756 - val_loss: 0.0164 - val_accuracy: 0.9949 - lr: 0.0100\n",
            "Epoch 11/30\n",
            "914/914 [==============================] - 40s 44ms/step - loss: 0.0440 - accuracy: 0.9861 - val_loss: 0.0109 - val_accuracy: 0.9963 - lr: 0.0010\n",
            "Epoch 12/30\n",
            "914/914 [==============================] - 40s 43ms/step - loss: 0.0335 - accuracy: 0.9892 - val_loss: 0.0102 - val_accuracy: 0.9966 - lr: 0.0010\n",
            "Epoch 13/30\n",
            "914/914 [==============================] - 38s 42ms/step - loss: 0.0282 - accuracy: 0.9913 - val_loss: 0.0094 - val_accuracy: 0.9969 - lr: 0.0010\n",
            "Epoch 14/30\n",
            "914/914 [==============================] - 37s 40ms/step - loss: 0.0270 - accuracy: 0.9913 - val_loss: 0.0086 - val_accuracy: 0.9967 - lr: 0.0010\n",
            "Epoch 15/30\n",
            "914/914 [==============================] - 37s 40ms/step - loss: 0.0236 - accuracy: 0.9928 - val_loss: 0.0097 - val_accuracy: 0.9967 - lr: 0.0010\n",
            "Epoch 16/30\n",
            "914/914 [==============================] - 41s 44ms/step - loss: 0.0248 - accuracy: 0.9920 - val_loss: 0.0088 - val_accuracy: 0.9970 - lr: 0.0010\n",
            "Epoch 17/30\n",
            "914/914 [==============================] - 40s 43ms/step - loss: 0.0249 - accuracy: 0.9919 - val_loss: 0.0077 - val_accuracy: 0.9971 - lr: 0.0010\n",
            "Epoch 18/30\n",
            "914/914 [==============================] - 40s 44ms/step - loss: 0.0219 - accuracy: 0.9934 - val_loss: 0.0077 - val_accuracy: 0.9971 - lr: 0.0010\n",
            "Epoch 19/30\n",
            "914/914 [==============================] - 38s 42ms/step - loss: 0.0235 - accuracy: 0.9928 - val_loss: 0.0092 - val_accuracy: 0.9966 - lr: 0.0010\n",
            "Epoch 20/30\n",
            "914/914 [==============================] - 39s 42ms/step - loss: 0.0207 - accuracy: 0.9935 - val_loss: 0.0077 - val_accuracy: 0.9973 - lr: 0.0010\n",
            "Epoch 21/30\n",
            "914/914 [==============================] - 40s 44ms/step - loss: 0.0201 - accuracy: 0.9934 - val_loss: 0.0073 - val_accuracy: 0.9971 - lr: 1.0000e-04\n",
            "Epoch 22/30\n",
            "914/914 [==============================] - 40s 44ms/step - loss: 0.0216 - accuracy: 0.9935 - val_loss: 0.0072 - val_accuracy: 0.9971 - lr: 1.0000e-04\n",
            "Epoch 23/30\n",
            "914/914 [==============================] - 40s 44ms/step - loss: 0.0195 - accuracy: 0.9939 - val_loss: 0.0074 - val_accuracy: 0.9971 - lr: 1.0000e-04\n",
            "Epoch 24/30\n",
            "914/914 [==============================] - 39s 42ms/step - loss: 0.0216 - accuracy: 0.9935 - val_loss: 0.0074 - val_accuracy: 0.9974 - lr: 1.0000e-04\n",
            "Epoch 25/30\n",
            "914/914 [==============================] - 37s 40ms/step - loss: 0.0205 - accuracy: 0.9936 - val_loss: 0.0075 - val_accuracy: 0.9975 - lr: 1.0000e-04\n",
            "Epoch 26/30\n",
            "914/914 [==============================] - 39s 43ms/step - loss: 0.0181 - accuracy: 0.9943 - val_loss: 0.0074 - val_accuracy: 0.9973 - lr: 1.0000e-04\n",
            "Epoch 27/30\n",
            "914/914 [==============================] - 39s 42ms/step - loss: 0.0221 - accuracy: 0.9935 - val_loss: 0.0075 - val_accuracy: 0.9971 - lr: 1.0000e-04\n",
            "Epoch 28/30\n",
            "914/914 [==============================] - 39s 43ms/step - loss: 0.0182 - accuracy: 0.9945 - val_loss: 0.0072 - val_accuracy: 0.9975 - lr: 1.0000e-04\n",
            "Epoch 29/30\n",
            "914/914 [==============================] - 38s 42ms/step - loss: 0.0190 - accuracy: 0.9937 - val_loss: 0.0073 - val_accuracy: 0.9975 - lr: 1.0000e-04\n",
            "Epoch 30/30\n",
            "914/914 [==============================] - 39s 43ms/step - loss: 0.0192 - accuracy: 0.9939 - val_loss: 0.0072 - val_accuracy: 0.9975 - lr: 1.0000e-04\n"
          ]
        }
      ]
    },
    {
      "cell_type": "code",
      "source": [
        "epochs = [i for i in range(1, len(history4.history['accuracy']) + 1)]\n",
        "plt.plot(epochs, history4.history['loss'], label='train loss')\n",
        "plt.plot(epochs, history4.history['val_loss'], 'r', label='val loss')\n",
        "plt.title('loss')\n",
        "plt.legend()\n",
        "plt.show()"
      ],
      "metadata": {
        "colab": {
          "base_uri": "https://localhost:8080/",
          "height": 281
        },
        "id": "-atgV-WkecO2",
        "outputId": "48906ae0-673a-4180-f3a3-070e7478eb20"
      },
      "execution_count": 27,
      "outputs": [
        {
          "output_type": "display_data",
          "data": {
            "image/png": "[encoded data removed]",
            "text/plain": [
              "<Figure size 432x288 with 1 Axes>"
            ]
          },
          "metadata": {
            "needs_background": "light"
          }
        }
      ]
    },
    {
      "cell_type": "code",
      "source": [
        "plt.plot(epochs, history4.history['accuracy'], label='train acc')\n",
        "plt.plot(epochs, history4.history['val_accuracy'], 'r', label='val acc')\n",
        "plt.title('accuracy')\n",
        "plt.legend()\n",
        "plt.show()"
      ],
      "metadata": {
        "colab": {
          "base_uri": "https://localhost:8080/",
          "height": 281
        },
        "id": "8Zk-9fayeevy",
        "outputId": "e9acc056-cc46-4923-e0e7-958d67538fc3"
      },
      "execution_count": 28,
      "outputs": [
        {
          "output_type": "display_data",
          "data": {
            "image/png": "[encoded data removed]",
            "text/plain": [
              "<Figure size 432x288 with 1 Axes>"
            ]
          },
          "metadata": {
            "needs_background": "light"
          }
        }
      ]
    },
    {
      "cell_type": "code",
      "source": [
        "model4.evaluate(X_test, y_test)"
      ],
      "metadata": {
        "colab": {
          "base_uri": "https://localhost:8080/"
        },
        "id": "5Rle8p2no1cB",
        "outputId": "2c6cf216-156d-4ba2-dd26-0b719041c151"
      },
      "execution_count": 29,
      "outputs": [
        {
          "output_type": "stream",
          "name": "stdout",
          "text": [
            "395/395 [==============================] - 4s 9ms/step - loss: 0.0619 - accuracy: 0.9865\n"
          ]
        },
        {
          "output_type": "execute_result",
          "data": {
            "text/plain": [
              "[0.061851780861616135, 0.98646080493927]"
            ]
          },
          "metadata": {},
          "execution_count": 29
        }
      ]
    },
    {
      "cell_type": "code",
      "source": [
        "a = model4.predict(X_test)"
      ],
      "metadata": {
        "id": "Uo1sZVQE2hhJ"
      },
      "execution_count": 87,
      "outputs": []
    },
    {
      "cell_type": "code",
      "source": [
        "a[0]"
      ],
      "metadata": {
        "colab": {
          "base_uri": "https://localhost:8080/"
        },
        "id": "7H85_ds42mZM",
        "outputId": "90aa4211-966a-4c07-f361-cd3a4c2d6e85"
      },
      "execution_count": 89,
      "outputs": [
        {
          "output_type": "execute_result",
          "data": {
            "text/plain": [
              "array([7.8249743e-21, 9.6767546e-21, 5.8061324e-23, 1.4538463e-18,\n",
              "       2.0653408e-24, 4.8968071e-18, 1.8969804e-21, 1.5305731e-11,\n",
              "       7.7526965e-18, 1.1379129e-12, 8.4136173e-24, 3.6959495e-19,\n",
              "       3.1551697e-26, 9.9805746e-29, 4.7952886e-24, 1.9483252e-21,\n",
              "       1.0000000e+00, 2.1807036e-23, 6.4403483e-31, 1.0088947e-27,\n",
              "       3.2200430e-24, 8.6341489e-27, 5.2482220e-32, 2.6026365e-28,\n",
              "       8.8147926e-27, 4.1254276e-26, 1.3668714e-27, 1.9859062e-26,\n",
              "       1.8366788e-24, 7.5116685e-28, 1.8583300e-23, 1.6539913e-33,\n",
              "       1.1735710e-19, 2.0197026e-21, 2.5675164e-24, 2.7687121e-24,\n",
              "       1.5534260e-25, 6.4027637e-26, 8.4377389e-28, 1.6107331e-28,\n",
              "       9.0370573e-27, 1.9812266e-22, 3.6654830e-18], dtype=float32)"
            ]
          },
          "metadata": {},
          "execution_count": 89
        }
      ]
    },
    {
      "cell_type": "code",
      "source": [
        "from PIL import Image\n",
        "import cv2\n",
        "import os"
      ],
      "metadata": {
        "id": "O-tkTXMbnE2d"
      },
      "execution_count": 30,
      "outputs": []
    },
    {
      "cell_type": "code",
      "source": [
        "# 한국 교통표지 이미지를 X_test_korea로 가져오기\n",
        "root_dir_2 = '/content/drive/MyDrive/korean_traffic_sign/'\n",
        "X_test_korea = []\n",
        "\n",
        "images = os.listdir(root_dir_2)\n",
        "print(images)\n",
        "\n",
        "for image in images:\n",
        "    im = Image.open(root_dir_2 + image)\n",
        "    im2 = np.asarray(im)\n",
        "    im3 = preprocess_img(im2)\n",
        "    X_test_korea.append(np.asarray(im3))\n",
        "\n",
        "X_test_korea = np.array(X_test_korea, dtype='float32')"
      ],
      "metadata": {
        "id": "1ntVgnE_qiCZ",
        "colab": {
          "base_uri": "https://localhost:8080/"
        },
        "outputId": "a7eadfdc-ad58-42ef-9846-2ee2f10feaa7"
      },
      "execution_count": 48,
      "outputs": [
        {
          "output_type": "stream",
          "name": "stdout",
          "text": [
            "['0.jpg', '1.jpg', '2.jpg', '3.jpg', '4.jpg', '5.jpg', '6.jpg', '7.jpg', '8.jpg', '9.jpg', '10.jpg', '11.jpg', '12.jpg', '13.jpg', '14.jpg', '15.jpg', '16.jpg', '17.jpg', '18.jpg', '19.jpg', '20.jpg', '21.jpg', '22.jpg', '23.jpg', '24.jpg', '25.jpg', '26.jpg', '27.jpg', '28.jpg', '29.jpg', '30.jpg', '31.jpg', '32.jpg', '33.jpg', '34.jpg', '35.jpg', '36.jpg', '37.jpg', '38.jpg', '39.jpg', '40.jpg', '41.jpg', '42.jpg', '43.jpg', '44.jpg', '45.jpg', '46.jpg', '47.jpg', '48.jpg', '49.jpg', '50.jpg', '51.jpg', '52.jpg', '53.jpg', '54.jpg', '55.jpg', '56.jpg', '57.jpg', '58.jpg', '59.jpg', '60.jpg', '61.jpg', '62.jpg', '63.jpg', '64.jpg', '65.jpg', '66.jpg', '67.jpg', '68.jpg', '69.jpg', '70.jpg', '71.jpg', '72.jpg', '73.jpg', '74.jpg', '75.jpg', '76.jpg', '77.jpg', '78.jpg', '79.jpg', '80.jpg', '81.jpg', '82.jpg', '83.jpg', '84.jpg', '85.jpg', '86.jpg', '87.jpg', '88.jpg', '89.jpg', '90.jpg', '91.jpg', '92.jpg', '93.jpg', '94.jpg', '95.jpg', '96.jpg', '97.jpg', '98.jpg', '99.jpg', '100.jpg', '101.jpg', '102.jpg']\n"
          ]
        }
      ]
    },
    {
      "cell_type": "code",
      "source": [
        "X_test_korea.shape"
      ],
      "metadata": {
        "colab": {
          "base_uri": "https://localhost:8080/"
        },
        "id": "vl94m4AcmgiH",
        "outputId": "4aa372ef-a524-4b35-92d2-acac757e4bcf"
      },
      "execution_count": 49,
      "outputs": [
        {
          "output_type": "execute_result",
          "data": {
            "text/plain": [
              "(103, 3, 48, 48)"
            ]
          },
          "metadata": {},
          "execution_count": 49
        }
      ]
    },
    {
      "cell_type": "code",
      "source": [
        "# 한국 표지판을 정확도가 제일 높은 독일 표지판 예측 모델에 넣어 결과 확인\n",
        "y_pred = model4.predict(X_test_korea, batch_size=32)"
      ],
      "metadata": {
        "id": "8Mk_abndQ8ar"
      },
      "execution_count": 83,
      "outputs": []
    },
    {
      "cell_type": "code",
      "source": [
        "# 독일 표지판의 레이블\n",
        "label_map = {\n",
        "    0: '20_speed',\n",
        "    1: '30_speed',\n",
        "    2: '50_speed',\n",
        "    3: '60_speed',\n",
        "    4: '70_speed',\n",
        "    5: '80_speed',\n",
        "    6: '80_lifted',\n",
        "    7: '100_speed',\n",
        "    8: '120_speed',\n",
        "    9: 'no_overtaking_general',\n",
        "    10: 'no_overtaking_trucks',\n",
        "    11: 'right_of_way_crossing',\n",
        "    12: 'right_of_way_general',\n",
        "    13: 'give_way',\n",
        "    14: 'stop',\n",
        "    15: 'no_way_general',\n",
        "    16: 'no_way_trucks',\n",
        "    17: 'no_way_one_way',\n",
        "    18: 'attention_general',\n",
        "    19: 'attention_left_turn',\n",
        "    20: 'attention_right_turn',\n",
        "    21: 'attention_curvy',\n",
        "    22: 'attention_bumpers',\n",
        "    23: 'attention_slippery',\n",
        "    24: 'attention_bottleneck',\n",
        "    25: 'attention_construction',\n",
        "    26: 'attention_traffic_light',\n",
        "    27: 'attention_pedestrian',\n",
        "    28: 'attention_children',\n",
        "    29: 'attention_bikes',\n",
        "    30: 'attention_snowflake',\n",
        "    31: 'attention_deer',\n",
        "    32: 'lifted_general',\n",
        "    33: 'turn_right',\n",
        "    34: 'turn_left',\n",
        "    35: 'turn_straight',\n",
        "    36: 'turn_straight_right',\n",
        "    37: 'turn_straight_left',\n",
        "    38: 'turn_right_down',\n",
        "    39: 'turn_left_down',\n",
        "    40: 'turn_circle',\n",
        "    41: 'lifted_no_overtaking_general',\n",
        "    42: 'lifted_no_overtaking_trucks'\n",
        "}"
      ],
      "metadata": {
        "id": "PxiqKADtfyL0"
      },
      "execution_count": 82,
      "outputs": []
    },
    {
      "cell_type": "code",
      "source": [
        "# 한국 표지판을 모델이 예측했을 때, 바로 위 레이블 중에 index로 예측하는지 보기 위해 함수 만들기\n",
        "\n",
        "def highest(arr):\n",
        "  return np.where(arr == np.amax(arr))"
      ],
      "metadata": {
        "id": "Ffju2OMlhozM"
      },
      "execution_count": 84,
      "outputs": []
    },
    {
      "cell_type": "code",
      "source": [
        "y_pred_indexes = []\n",
        "for i in range(len(X_test_korea)):\n",
        "  y_pred_indexes.append(highest(y_pred[i])[0][0])"
      ],
      "metadata": {
        "id": "_MC4Xh_ZiqXM"
      },
      "execution_count": 85,
      "outputs": []
    },
    {
      "cell_type": "code",
      "source": [
        "# 0~102번 번호를 붙인 한국 표지판을 다음과 같은 독일 표지판의 레이블로 예측하고 있음.\n",
        "print(y_pred_indexes)"
      ],
      "metadata": {
        "colab": {
          "base_uri": "https://localhost:8080/"
        },
        "id": "jEWKd7-jkh99",
        "outputId": "6316a96f-4dd0-46af-ae9a-af73eb957792"
      },
      "execution_count": 92,
      "outputs": [
        {
          "output_type": "stream",
          "name": "stdout",
          "text": [
            "[29, 29, 29, 29, 29, 29, 29, 29, 29, 25, 29, 29, 29, 29, 29, 12, 12, 29, 29, 29, 29, 29, 29, 29, 26, 29, 29, 29, 22, 29, 29, 29, 29, 29, 29, 29, 29, 29, 29, 29, 29, 15, 16, 16, 9, 3, 15, 16, 15, 14, 7, 42, 4, 1, 15, 33, 34, 3, 1, 16, 2, 2, 1, 13, 14, 13, 15, 12, 34, 38, 34, 40, 35, 33, 34, 36, 37, 34, 36, 40, 35, 38, 39, 38, 7, 34, 38, 39, 5, 34, 37, 38, 34, 38, 40, 7, 7, 35, 40, 38, 38, 35, 34]\n"
          ]
        }
      ]
    },
    {
      "cell_type": "code",
      "source": [
        "y_pred_indexes[87]"
      ],
      "metadata": {
        "colab": {
          "base_uri": "https://localhost:8080/"
        },
        "id": "Cs7gG0PlIZrP",
        "outputId": "6c3d88f1-e9f8-41cf-de62-b27fb780892c"
      },
      "execution_count": 98,
      "outputs": [
        {
          "output_type": "execute_result",
          "data": {
            "text/plain": [
              "39"
            ]
          },
          "metadata": {},
          "execution_count": 98
        }
      ]
    },
    {
      "cell_type": "code",
      "source": [
        ""
      ],
      "metadata": {
        "id": "w5A-NY8UJngX"
      },
      "execution_count": null,
      "outputs": []
    }
  ]
}